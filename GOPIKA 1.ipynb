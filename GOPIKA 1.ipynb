{
 "cells": [
  {
   "cell_type": "code",
   "execution_count": 17,
   "id": "63d3e7c2",
   "metadata": {},
   "outputs": [
    {
     "name": "stdout",
     "output_type": "stream",
     "text": [
      "enter the values of kilometer=4\n"
     ]
    }
   ],
   "source": [
    "km=int(input('enter the values of kilometer='))"
   ]
  },
  {
   "cell_type": "markdown",
   "id": "b0207d09",
   "metadata": {},
   "source": [
    "1 kilometer =0.6213 mile\n"
   ]
  },
  {
   "cell_type": "code",
   "execution_count": 19,
   "id": "8ff5acaf",
   "metadata": {},
   "outputs": [],
   "source": [
    "ratio=0.6213"
   ]
  },
  {
   "cell_type": "code",
   "execution_count": 20,
   "id": "c770d774",
   "metadata": {},
   "outputs": [],
   "source": [
    "miles=km*ratio"
   ]
  },
  {
   "cell_type": "code",
   "execution_count": 22,
   "id": "c8cca069",
   "metadata": {},
   "outputs": [
    {
     "name": "stdout",
     "output_type": "stream",
     "text": [
      "the length in miles= 0.246\n"
     ]
    }
   ],
   "source": [
    "print('the length in miles=',miles)"
   ]
  },
  {
   "cell_type": "code",
   "execution_count": 29,
   "id": "e4fe301f",
   "metadata": {},
   "outputs": [
    {
     "name": "stdout",
     "output_type": "stream",
     "text": [
      "123\n",
      "126\n",
      "129\n",
      "132\n",
      "135\n",
      "138\n",
      "141\n"
     ]
    }
   ],
   "source": [
    "def findMultiples(x, y, mul):\n",
    "    \n",
    "    for i in range(x, x + mul):\n",
    "        if i % mul == 0:\n",
    "            break\n",
    "    \n",
    "    for j in range(i, y, mul):\n",
    "        print(j)\n",
    "\n",
    "findMultiples(121, 143, 3)"
   ]
  },
  {
   "cell_type": "code",
   "execution_count": null,
   "id": "a3a25e00",
   "metadata": {},
   "outputs": [],
   "source": []
  }
 ],
 "metadata": {
  "kernelspec": {
   "display_name": "Python 3 (ipykernel)",
   "language": "python",
   "name": "python3"
  },
  "language_info": {
   "codemirror_mode": {
    "name": "ipython",
    "version": 3
   },
   "file_extension": ".py",
   "mimetype": "text/x-python",
   "name": "python",
   "nbconvert_exporter": "python",
   "pygments_lexer": "ipython3",
   "version": "3.9.7"
  }
 },
 "nbformat": 4,
 "nbformat_minor": 5
}
